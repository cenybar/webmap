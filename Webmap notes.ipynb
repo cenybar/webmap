{
 "cells": [
  {
   "cell_type": "markdown",
   "metadata": {},
   "source": [
    "## Note\n",
    "\n",
    "In the next lecture I use this in the code:\n",
    "\n",
    "tiles = \"Mapbox Bright\"\n",
    "\n",
    "**Please use this instead:**\n",
    "\n",
    "tiles = \"Stamen Terrain\"\n",
    "\n",
    "**Mapbox Bright and Stament Terrain are both types of basemaps, but Mapbox Bright doesn't work anymore. Stamen Terrain works great and you will see it creates a beautiful relief map.**"
   ]
  },
  {
   "cell_type": "code",
   "execution_count": null,
   "metadata": {},
   "outputs": [],
   "source": []
  }
 ],
 "metadata": {
  "kernelspec": {
   "display_name": "Python 3",
   "language": "python",
   "name": "python3"
  },
  "language_info": {
   "codemirror_mode": {
    "name": "ipython",
    "version": 3
   },
   "file_extension": ".py",
   "mimetype": "text/x-python",
   "name": "python",
   "nbconvert_exporter": "python",
   "pygments_lexer": "ipython3",
   "version": "3.7.4"
  }
 },
 "nbformat": 4,
 "nbformat_minor": 2
}
