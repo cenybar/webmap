{
 "cells": [
  {
   "cell_type": "markdown",
   "metadata": {},
   "source": [
    "## Note\n",
    "\n",
    "In the next lecture I use this in the code:\n",
    "\n",
    "tiles = \"Mapbox Bright\"\n",
    "\n",
    "**Please use this instead:**\n",
    "\n",
    "tiles = \"Stamen Terrain\"\n",
    "\n",
    "**Mapbox Bright and Stament Terrain are both types of basemaps, but Mapbox Bright doesn't work anymore. Stamen Terrain works great and you will see it creates a beautiful relief map.**"
   ]
  },
  {
   "cell_type": "markdown",
   "metadata": {},
   "source": [
    "## HTML on Popups\n",
    "\n",
    "**Note that if you want to have stylized text (bold, different fonts, etc) in the popup window you can use HTML. For example:**"
   ]
  },
  {
   "cell_type": "code",
   "execution_count": null,
   "metadata": {},
   "outputs": [],
   "source": [
    "import folium\n",
    "import pandas as pd\n",
    "\n",
    "data = pd.read_csv('Volcanoes.txt')\n",
    "lat = list(data['LAT'])\n",
    "lon = list(data['LON'])\n",
    "elev = list(data['ELEV'])\n",
    "\n",
    "html = \"\"\"<h4>Volcano information:</h4>\n",
    "Height: %s m\n",
    "\"\"\"\n",
    "\n",
    "map = folium.Map(location=[38.58, -99.09], zoom_start=5, tiles='Stamen Terrain')\n",
    "fg = folium.FeatureGroup(name = 'My Map')\n",
    "\n",
    "for lt, ln, el in zip(lat,lon,elev):\n",
    "    iframe = folium.IFrame(html=html % str(el), width=200, height=100)\n",
    "    fg.add_child(folium.Marker(location=[lt, ln], popup=folium.Popup(iframe), icon = folium.Icon(color = \"green\")))\n",
    "    \n",
    "     \n",
    "map.add_child(fg)\n",
    "map.save(\"Map_html_popup_simple.html\")"
   ]
  },
  {
   "cell_type": "markdown",
   "metadata": {},
   "source": [
    "You can even put links in the popup window. For example, the code below will produce a popup window with the name of the volcano as a link which does a Google search for that particular volcano when clicked:"
   ]
  },
  {
   "cell_type": "code",
   "execution_count": null,
   "metadata": {},
   "outputs": [],
   "source": [
    "import folium\n",
    "import pandas\n",
    "     \n",
    "data = pandas.read_csv(\"Volcanoes.txt\")\n",
    "lat = list(data[\"LAT\"])\n",
    "lon = list(data[\"LON\"])\n",
    "elev = list(data[\"ELEV\"])\n",
    "name = list(data[\"NAME\"])\n",
    "    \n",
    "html = \"\"\"\n",
    "Volcano name:<br>\n",
    "<a href=\"https://www.google.com/search?q=%%22%s%%22\" target=\"_blank\">%s</a><br>\n",
    "Height: %s m\n",
    "\"\"\"\n",
    "    \n",
    "map = folium.Map(location=[38.58, -99.09], zoom_start=5, tiles=\"Mapbox Bright\")\n",
    "fg = folium.FeatureGroup(name = \"My Map\")\n",
    "     \n",
    "for lt, ln, el, name in zip(lat, lon, elev, name):\n",
    "    iframe = folium.IFrame(html=html % (name, name, el), width=200, height=100)\n",
    "    fg.add_child(folium.Marker(location=[lt, ln], popup=folium.Popup(iframe), icon = folium.Icon(color = \"green\")))\n",
    "     \n",
    "map.add_child(fg)\n",
    "map.save(\"Map_html_popup_advanced.html\")"
   ]
  }
 ],
 "metadata": {
  "kernelspec": {
   "display_name": "Python 3",
   "language": "python",
   "name": "python3"
  },
  "language_info": {
   "codemirror_mode": {
    "name": "ipython",
    "version": 3
   },
   "file_extension": ".py",
   "mimetype": "text/x-python",
   "name": "python",
   "nbconvert_exporter": "python",
   "pygments_lexer": "ipython3",
   "version": "3.7.4"
  }
 },
 "nbformat": 4,
 "nbformat_minor": 2
}
